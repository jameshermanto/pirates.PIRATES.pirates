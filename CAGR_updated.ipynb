{
 "metadata": {
  "language_info": {
   "codemirror_mode": {
    "name": "ipython",
    "version": 3
   },
   "file_extension": ".py",
   "mimetype": "text/x-python",
   "name": "python",
   "nbconvert_exporter": "python",
   "pygments_lexer": "ipython3",
   "version": "3.8.6-final"
  },
  "orig_nbformat": 2,
  "kernelspec": {
   "name": "Python 3.8.6 64-bit",
   "display_name": "Python 3.8.6 64-bit",
   "metadata": {
    "interpreter": {
     "hash": "aee8b7b246df8f9039afb4144a1f6fd8d2ca17a180786b69acc140d282b71a49"
    }
   }
  }
 },
 "nbformat": 4,
 "nbformat_minor": 2,
 "cells": [
  {
   "cell_type": "code",
   "execution_count": 1,
   "metadata": {},
   "outputs": [],
   "source": [
    "import pandas as pd \n",
    "import numpy as np\n",
    "import yfinance as yf\n",
    "from pandas_datareader import data"
   ]
  },
  {
   "cell_type": "code",
   "execution_count": 21,
   "metadata": {},
   "outputs": [],
   "source": [
    "df = yf.download('PTBA.jk',\n",
    "                 start='2014-12-31', \n",
    "                 end='2019-12-31',\n",
    "                 actions='inline',\n",
    "                 progress=False)\n",
    "\n",
    "df = df.loc[:, ['Adj Close']]\n",
    "df.rename(columns={'Adj Close':'adj_close'}, inplace=True)"
   ]
  },
  {
   "cell_type": "code",
   "execution_count": 22,
   "metadata": {},
   "outputs": [],
   "source": [
    "df['simple_rtn'] = df.adj_close.pct_change()\n",
    "df['log_rtn'] = np.log(df.adj_close/df.adj_close.shift(1))"
   ]
  },
  {
   "cell_type": "code",
   "execution_count": 23,
   "metadata": {},
   "outputs": [
    {
     "output_type": "execute_result",
     "data": {
      "text/plain": [
       "              adj_close  simple_rtn   log_rtn\n",
       "Date                                         \n",
       "2015-01-02  1090.897461         NaN       NaN\n",
       "2015-01-05  1088.693604   -0.002020 -0.002022\n",
       "2015-01-06  1064.451538   -0.022267 -0.022519\n",
       "2015-01-07  1066.655396    0.002070  0.002068\n",
       "2015-01-08  1040.209351   -0.024793 -0.025106"
      ],
      "text/html": "<div>\n<style scoped>\n    .dataframe tbody tr th:only-of-type {\n        vertical-align: middle;\n    }\n\n    .dataframe tbody tr th {\n        vertical-align: top;\n    }\n\n    .dataframe thead th {\n        text-align: right;\n    }\n</style>\n<table border=\"1\" class=\"dataframe\">\n  <thead>\n    <tr style=\"text-align: right;\">\n      <th></th>\n      <th>adj_close</th>\n      <th>simple_rtn</th>\n      <th>log_rtn</th>\n    </tr>\n    <tr>\n      <th>Date</th>\n      <th></th>\n      <th></th>\n      <th></th>\n    </tr>\n  </thead>\n  <tbody>\n    <tr>\n      <th>2015-01-02</th>\n      <td>1090.897461</td>\n      <td>NaN</td>\n      <td>NaN</td>\n    </tr>\n    <tr>\n      <th>2015-01-05</th>\n      <td>1088.693604</td>\n      <td>-0.002020</td>\n      <td>-0.002022</td>\n    </tr>\n    <tr>\n      <th>2015-01-06</th>\n      <td>1064.451538</td>\n      <td>-0.022267</td>\n      <td>-0.022519</td>\n    </tr>\n    <tr>\n      <th>2015-01-07</th>\n      <td>1066.655396</td>\n      <td>0.002070</td>\n      <td>0.002068</td>\n    </tr>\n    <tr>\n      <th>2015-01-08</th>\n      <td>1040.209351</td>\n      <td>-0.024793</td>\n      <td>-0.025106</td>\n    </tr>\n  </tbody>\n</table>\n</div>"
     },
     "metadata": {},
     "execution_count": 23
    }
   ],
   "source": [
    "df.head()"
   ]
  },
  {
   "cell_type": "code",
   "execution_count": 24,
   "metadata": {},
   "outputs": [],
   "source": [
    "import pandas as pd\n",
    "import quandl\n",
    "import seaborn as sns\n",
    "\n",
    "\n",
    "QUANDL_KEY = '{key}' # replace {key} with your own API key  \n",
    "quandl.ApiConfig.api_key = QUANDL_KEY"
   ]
  },
  {
   "cell_type": "code",
   "execution_count": 25,
   "metadata": {},
   "outputs": [],
   "source": [
    "df_all_dates = pd.DataFrame(index=pd.date_range(start='2014-12-31', \n",
    "                                                end='2019-12-31'))\n",
    "\n",
    "df = df_all_dates.join(df[['adj_close']], how='left') \\\n",
    "                 .fillna(method='ffill') \\\n",
    "                 .asfreq('A')"
   ]
  },
  {
   "cell_type": "code",
   "execution_count": 26,
   "metadata": {},
   "outputs": [
    {
     "output_type": "execute_result",
     "data": {
      "text/plain": [
       "Empty DataFrame\n",
       "Columns: []\n",
       "Index: [2014-12-31 00:00:00, 2015-01-01 00:00:00, 2015-01-02 00:00:00, 2015-01-03 00:00:00, 2015-01-04 00:00:00]"
      ],
      "text/html": "<div>\n<style scoped>\n    .dataframe tbody tr th:only-of-type {\n        vertical-align: middle;\n    }\n\n    .dataframe tbody tr th {\n        vertical-align: top;\n    }\n\n    .dataframe thead th {\n        text-align: right;\n    }\n</style>\n<table border=\"1\" class=\"dataframe\">\n  <thead>\n    <tr style=\"text-align: right;\">\n      <th></th>\n    </tr>\n  </thead>\n  <tbody>\n    <tr>\n      <th>2014-12-31</th>\n    </tr>\n    <tr>\n      <th>2015-01-01</th>\n    </tr>\n    <tr>\n      <th>2015-01-02</th>\n    </tr>\n    <tr>\n      <th>2015-01-03</th>\n    </tr>\n    <tr>\n      <th>2015-01-04</th>\n    </tr>\n  </tbody>\n</table>\n</div>"
     },
     "metadata": {},
     "execution_count": 26
    }
   ],
   "source": [
    "df_all_dates.head()"
   ]
  },
  {
   "cell_type": "code",
   "execution_count": 27,
   "metadata": {},
   "outputs": [
    {
     "output_type": "execute_result",
     "data": {
      "text/plain": [
       "              adj_close\n",
       "2014-12-31          NaN\n",
       "2015-12-31   467.380341\n",
       "2016-12-31  1590.298950\n",
       "2017-12-31  1763.460815\n",
       "2018-12-31  3393.033447"
      ],
      "text/html": "<div>\n<style scoped>\n    .dataframe tbody tr th:only-of-type {\n        vertical-align: middle;\n    }\n\n    .dataframe tbody tr th {\n        vertical-align: top;\n    }\n\n    .dataframe thead th {\n        text-align: right;\n    }\n</style>\n<table border=\"1\" class=\"dataframe\">\n  <thead>\n    <tr style=\"text-align: right;\">\n      <th></th>\n      <th>adj_close</th>\n    </tr>\n  </thead>\n  <tbody>\n    <tr>\n      <th>2014-12-31</th>\n      <td>NaN</td>\n    </tr>\n    <tr>\n      <th>2015-12-31</th>\n      <td>467.380341</td>\n    </tr>\n    <tr>\n      <th>2016-12-31</th>\n      <td>1590.298950</td>\n    </tr>\n    <tr>\n      <th>2017-12-31</th>\n      <td>1763.460815</td>\n    </tr>\n    <tr>\n      <th>2018-12-31</th>\n      <td>3393.033447</td>\n    </tr>\n  </tbody>\n</table>\n</div>"
     },
     "metadata": {},
     "execution_count": 27
    }
   ],
   "source": [
    "df.head()"
   ]
  },
  {
   "cell_type": "code",
   "execution_count": 28,
   "metadata": {},
   "outputs": [],
   "source": [
    "df_cpi = quandl.get(\"ODA/IDN_PCPI\", \n",
    "                    authtoken=\"et7jqG6esE8zbud7VEaM\", \n",
    "                    start_date='2014-12-31', \n",
    "                    end_date='2019-12-31')\n",
    "df_cpi.rename(columns={'Value':'cpi'}, inplace=True)"
   ]
  },
  {
   "cell_type": "code",
   "execution_count": 29,
   "metadata": {},
   "outputs": [
    {
     "output_type": "execute_result",
     "data": {
      "text/plain": [
       "                cpi\n",
       "Date               \n",
       "2014-12-31  113.218\n",
       "2015-12-31  120.422\n",
       "2016-12-31  124.668\n",
       "2017-12-31  129.416\n",
       "2018-12-31  133.555"
      ],
      "text/html": "<div>\n<style scoped>\n    .dataframe tbody tr th:only-of-type {\n        vertical-align: middle;\n    }\n\n    .dataframe tbody tr th {\n        vertical-align: top;\n    }\n\n    .dataframe thead th {\n        text-align: right;\n    }\n</style>\n<table border=\"1\" class=\"dataframe\">\n  <thead>\n    <tr style=\"text-align: right;\">\n      <th></th>\n      <th>cpi</th>\n    </tr>\n    <tr>\n      <th>Date</th>\n      <th></th>\n    </tr>\n  </thead>\n  <tbody>\n    <tr>\n      <th>2014-12-31</th>\n      <td>113.218</td>\n    </tr>\n    <tr>\n      <th>2015-12-31</th>\n      <td>120.422</td>\n    </tr>\n    <tr>\n      <th>2016-12-31</th>\n      <td>124.668</td>\n    </tr>\n    <tr>\n      <th>2017-12-31</th>\n      <td>129.416</td>\n    </tr>\n    <tr>\n      <th>2018-12-31</th>\n      <td>133.555</td>\n    </tr>\n  </tbody>\n</table>\n</div>"
     },
     "metadata": {},
     "execution_count": 29
    }
   ],
   "source": [
    "df_cpi.head()"
   ]
  },
  {
   "cell_type": "code",
   "execution_count": 30,
   "metadata": {},
   "outputs": [],
   "source": [
    "df_merged = df.join(df_cpi, how='right')"
   ]
  },
  {
   "cell_type": "code",
   "execution_count": 31,
   "metadata": {},
   "outputs": [
    {
     "output_type": "execute_result",
     "data": {
      "text/plain": [
       "              adj_close      cpi\n",
       "Date                            \n",
       "2014-12-31          NaN  113.218\n",
       "2015-12-31   467.380341  120.422\n",
       "2016-12-31  1590.298950  124.668\n",
       "2017-12-31  1763.460815  129.416\n",
       "2018-12-31  3393.033447  133.555"
      ],
      "text/html": "<div>\n<style scoped>\n    .dataframe tbody tr th:only-of-type {\n        vertical-align: middle;\n    }\n\n    .dataframe tbody tr th {\n        vertical-align: top;\n    }\n\n    .dataframe thead th {\n        text-align: right;\n    }\n</style>\n<table border=\"1\" class=\"dataframe\">\n  <thead>\n    <tr style=\"text-align: right;\">\n      <th></th>\n      <th>adj_close</th>\n      <th>cpi</th>\n    </tr>\n    <tr>\n      <th>Date</th>\n      <th></th>\n      <th></th>\n    </tr>\n  </thead>\n  <tbody>\n    <tr>\n      <th>2014-12-31</th>\n      <td>NaN</td>\n      <td>113.218</td>\n    </tr>\n    <tr>\n      <th>2015-12-31</th>\n      <td>467.380341</td>\n      <td>120.422</td>\n    </tr>\n    <tr>\n      <th>2016-12-31</th>\n      <td>1590.298950</td>\n      <td>124.668</td>\n    </tr>\n    <tr>\n      <th>2017-12-31</th>\n      <td>1763.460815</td>\n      <td>129.416</td>\n    </tr>\n    <tr>\n      <th>2018-12-31</th>\n      <td>3393.033447</td>\n      <td>133.555</td>\n    </tr>\n  </tbody>\n</table>\n</div>"
     },
     "metadata": {},
     "execution_count": 31
    }
   ],
   "source": [
    "df_merged.head()"
   ]
  },
  {
   "cell_type": "code",
   "execution_count": 32,
   "metadata": {},
   "outputs": [],
   "source": [
    "df_merged['simple_rtn'] = df_merged.adj_close.pct_change()\n",
    "df_merged['inflation_rate'] = df_merged.cpi.pct_change()"
   ]
  },
  {
   "cell_type": "code",
   "execution_count": 33,
   "metadata": {},
   "outputs": [
    {
     "output_type": "execute_result",
     "data": {
      "text/plain": [
       "              adj_close      cpi  simple_rtn  inflation_rate\n",
       "Date                                                        \n",
       "2014-12-31          NaN  113.218         NaN             NaN\n",
       "2015-12-31   467.380341  120.422         NaN        0.063629\n",
       "2016-12-31  1590.298950  124.668    2.402580        0.035259\n",
       "2017-12-31  1763.460815  129.416    0.108886        0.038085\n",
       "2018-12-31  3393.033447  133.555    0.924076        0.031982\n",
       "2019-12-31  2305.552246  138.022   -0.320504        0.033447"
      ],
      "text/html": "<div>\n<style scoped>\n    .dataframe tbody tr th:only-of-type {\n        vertical-align: middle;\n    }\n\n    .dataframe tbody tr th {\n        vertical-align: top;\n    }\n\n    .dataframe thead th {\n        text-align: right;\n    }\n</style>\n<table border=\"1\" class=\"dataframe\">\n  <thead>\n    <tr style=\"text-align: right;\">\n      <th></th>\n      <th>adj_close</th>\n      <th>cpi</th>\n      <th>simple_rtn</th>\n      <th>inflation_rate</th>\n    </tr>\n    <tr>\n      <th>Date</th>\n      <th></th>\n      <th></th>\n      <th></th>\n      <th></th>\n    </tr>\n  </thead>\n  <tbody>\n    <tr>\n      <th>2014-12-31</th>\n      <td>NaN</td>\n      <td>113.218</td>\n      <td>NaN</td>\n      <td>NaN</td>\n    </tr>\n    <tr>\n      <th>2015-12-31</th>\n      <td>467.380341</td>\n      <td>120.422</td>\n      <td>NaN</td>\n      <td>0.063629</td>\n    </tr>\n    <tr>\n      <th>2016-12-31</th>\n      <td>1590.298950</td>\n      <td>124.668</td>\n      <td>2.402580</td>\n      <td>0.035259</td>\n    </tr>\n    <tr>\n      <th>2017-12-31</th>\n      <td>1763.460815</td>\n      <td>129.416</td>\n      <td>0.108886</td>\n      <td>0.038085</td>\n    </tr>\n    <tr>\n      <th>2018-12-31</th>\n      <td>3393.033447</td>\n      <td>133.555</td>\n      <td>0.924076</td>\n      <td>0.031982</td>\n    </tr>\n    <tr>\n      <th>2019-12-31</th>\n      <td>2305.552246</td>\n      <td>138.022</td>\n      <td>-0.320504</td>\n      <td>0.033447</td>\n    </tr>\n  </tbody>\n</table>\n</div>"
     },
     "metadata": {},
     "execution_count": 33
    }
   ],
   "source": [
    "df_merged.head(10)"
   ]
  },
  {
   "cell_type": "code",
   "execution_count": 34,
   "metadata": {},
   "outputs": [
    {
     "output_type": "execute_result",
     "data": {
      "text/plain": [
       "              adj_close      cpi  simple_rtn  inflation_rate  real_rtn\n",
       "Date                                                                  \n",
       "2014-12-31          NaN  113.218         NaN             NaN       NaN\n",
       "2015-12-31   467.380341  120.422         NaN        0.063629       NaN\n",
       "2016-12-31  1590.298950  124.668    2.402580        0.035259  2.286693\n",
       "2017-12-31  1763.460815  129.416    0.108886        0.038085  0.068204\n",
       "2018-12-31  3393.033447  133.555    0.924076        0.031982  0.864447\n",
       "2019-12-31  2305.552246  138.022   -0.320504        0.033447 -0.342496"
      ],
      "text/html": "<div>\n<style scoped>\n    .dataframe tbody tr th:only-of-type {\n        vertical-align: middle;\n    }\n\n    .dataframe tbody tr th {\n        vertical-align: top;\n    }\n\n    .dataframe thead th {\n        text-align: right;\n    }\n</style>\n<table border=\"1\" class=\"dataframe\">\n  <thead>\n    <tr style=\"text-align: right;\">\n      <th></th>\n      <th>adj_close</th>\n      <th>cpi</th>\n      <th>simple_rtn</th>\n      <th>inflation_rate</th>\n      <th>real_rtn</th>\n    </tr>\n    <tr>\n      <th>Date</th>\n      <th></th>\n      <th></th>\n      <th></th>\n      <th></th>\n      <th></th>\n    </tr>\n  </thead>\n  <tbody>\n    <tr>\n      <th>2014-12-31</th>\n      <td>NaN</td>\n      <td>113.218</td>\n      <td>NaN</td>\n      <td>NaN</td>\n      <td>NaN</td>\n    </tr>\n    <tr>\n      <th>2015-12-31</th>\n      <td>467.380341</td>\n      <td>120.422</td>\n      <td>NaN</td>\n      <td>0.063629</td>\n      <td>NaN</td>\n    </tr>\n    <tr>\n      <th>2016-12-31</th>\n      <td>1590.298950</td>\n      <td>124.668</td>\n      <td>2.402580</td>\n      <td>0.035259</td>\n      <td>2.286693</td>\n    </tr>\n    <tr>\n      <th>2017-12-31</th>\n      <td>1763.460815</td>\n      <td>129.416</td>\n      <td>0.108886</td>\n      <td>0.038085</td>\n      <td>0.068204</td>\n    </tr>\n    <tr>\n      <th>2018-12-31</th>\n      <td>3393.033447</td>\n      <td>133.555</td>\n      <td>0.924076</td>\n      <td>0.031982</td>\n      <td>0.864447</td>\n    </tr>\n    <tr>\n      <th>2019-12-31</th>\n      <td>2305.552246</td>\n      <td>138.022</td>\n      <td>-0.320504</td>\n      <td>0.033447</td>\n      <td>-0.342496</td>\n    </tr>\n  </tbody>\n</table>\n</div>"
     },
     "metadata": {},
     "execution_count": 34
    }
   ],
   "source": [
    "df_merged['real_rtn'] = (df_merged.simple_rtn + 1 ) / (df_merged.inflation_rate + 1) - 1\n",
    "df_merged.head(10)"
   ]
  },
  {
   "cell_type": "code",
   "execution_count": 35,
   "metadata": {},
   "outputs": [
    {
     "output_type": "execute_result",
     "data": {
      "text/plain": [
       "Date\n",
       "2015-12-31     467.380341\n",
       "2016-12-31    1590.298950\n",
       "2017-12-31    1763.460815\n",
       "2018-12-31    3393.033447\n",
       "2019-12-31    2305.552246\n",
       "Name: adj_close, dtype: float64"
      ]
     },
     "metadata": {},
     "execution_count": 35
    }
   ],
   "source": [
    "df = df_merged['adj_close'].dropna()\n",
    "df.head(10)"
   ]
  },
  {
   "cell_type": "code",
   "execution_count": 36,
   "metadata": {},
   "outputs": [
    {
     "output_type": "stream",
     "name": "stdout",
     "text": [
      "467.3803405761719\n2305.55224609375\n5\n0.20240298004550472\n0.04048059600910094\n0.3355272349274284\n"
     ]
    }
   ],
   "source": [
    "x = df[0]\n",
    "print(x)\n",
    "y = df[-1]\n",
    "print(y)\n",
    "\n",
    "year = len(df)\n",
    "print(year)\n",
    "\n",
    "inflation_rate = df_merged['inflation_rate'].sum()\n",
    "print(inflation_rate)    \n",
    "\n",
    "avg_inflation_rate = inflation_rate/year \n",
    "print(avg_inflation_rate)\n",
    "\n",
    "CAGR =(y/x)**(1/year)- 1 - avg_inflation_rate\n",
    "\n",
    "print(CAGR)"
   ]
  },
  {
   "cell_type": "code",
   "execution_count": null,
   "metadata": {},
   "outputs": [],
   "source": []
  },
  {
   "cell_type": "code",
   "execution_count": null,
   "metadata": {},
   "outputs": [],
   "source": []
  },
  {
   "cell_type": "code",
   "execution_count": null,
   "metadata": {},
   "outputs": [],
   "source": []
  },
  {
   "cell_type": "code",
   "execution_count": null,
   "metadata": {},
   "outputs": [],
   "source": []
  },
  {
   "cell_type": "code",
   "execution_count": null,
   "metadata": {},
   "outputs": [],
   "source": []
  }
 ]
}