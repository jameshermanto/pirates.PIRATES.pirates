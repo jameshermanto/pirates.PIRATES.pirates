{
 "metadata": {
  "language_info": {
   "codemirror_mode": {
    "name": "ipython",
    "version": 3
   },
   "file_extension": ".py",
   "mimetype": "text/x-python",
   "name": "python",
   "nbconvert_exporter": "python",
   "pygments_lexer": "ipython3",
   "version": "3.8.6-final"
  },
  "orig_nbformat": 2,
  "kernelspec": {
   "name": "Python 3.8.6 64-bit",
   "display_name": "Python 3.8.6 64-bit",
   "metadata": {
    "interpreter": {
     "hash": "aee8b7b246df8f9039afb4144a1f6fd8d2ca17a180786b69acc140d282b71a49"
    }
   }
  }
 },
 "nbformat": 4,
 "nbformat_minor": 2,
 "cells": [
  {
   "cell_type": "code",
   "execution_count": 85,
   "metadata": {},
   "outputs": [],
   "source": [
    "import pandas as pd \n",
    "import numpy as np\n",
    "import yfinance as yf\n",
    "from pandas_datareader import data"
   ]
  },
  {
   "cell_type": "code",
   "execution_count": 102,
   "metadata": {},
   "outputs": [],
   "source": [
    "df = yf.download('indy.jk',\n",
    "                 start='2014-12-31', \n",
    "                 end='2019-12-31',\n",
    "                 actions='inline',\n",
    "                 progress=False)\n",
    "\n",
    "df = df.loc[:, ['Adj Close']]\n",
    "df.rename(columns={'Adj Close':'adj_close'}, inplace=True)"
   ]
  },
  {
   "cell_type": "code",
   "execution_count": 103,
   "metadata": {},
   "outputs": [],
   "source": [
    "df['simple_rtn'] = df.adj_close.pct_change()\n",
    "df['log_rtn'] = np.log(df.adj_close/df.adj_close.shift(1))"
   ]
  },
  {
   "cell_type": "code",
   "execution_count": 104,
   "metadata": {},
   "outputs": [
    {
     "output_type": "execute_result",
     "data": {
      "text/plain": [
       "             adj_close  simple_rtn   log_rtn\n",
       "Date                                        \n",
       "2015-01-02  403.020752         NaN       NaN\n",
       "2015-01-05  399.107910   -0.009709 -0.009756\n",
       "2015-01-06  391.282257   -0.019608 -0.019803\n",
       "2015-01-07  389.717163   -0.004000 -0.004008\n",
       "2015-01-08  389.717163    0.000000  0.000000"
      ],
      "text/html": "<div>\n<style scoped>\n    .dataframe tbody tr th:only-of-type {\n        vertical-align: middle;\n    }\n\n    .dataframe tbody tr th {\n        vertical-align: top;\n    }\n\n    .dataframe thead th {\n        text-align: right;\n    }\n</style>\n<table border=\"1\" class=\"dataframe\">\n  <thead>\n    <tr style=\"text-align: right;\">\n      <th></th>\n      <th>adj_close</th>\n      <th>simple_rtn</th>\n      <th>log_rtn</th>\n    </tr>\n    <tr>\n      <th>Date</th>\n      <th></th>\n      <th></th>\n      <th></th>\n    </tr>\n  </thead>\n  <tbody>\n    <tr>\n      <th>2015-01-02</th>\n      <td>403.020752</td>\n      <td>NaN</td>\n      <td>NaN</td>\n    </tr>\n    <tr>\n      <th>2015-01-05</th>\n      <td>399.107910</td>\n      <td>-0.009709</td>\n      <td>-0.009756</td>\n    </tr>\n    <tr>\n      <th>2015-01-06</th>\n      <td>391.282257</td>\n      <td>-0.019608</td>\n      <td>-0.019803</td>\n    </tr>\n    <tr>\n      <th>2015-01-07</th>\n      <td>389.717163</td>\n      <td>-0.004000</td>\n      <td>-0.004008</td>\n    </tr>\n    <tr>\n      <th>2015-01-08</th>\n      <td>389.717163</td>\n      <td>0.000000</td>\n      <td>0.000000</td>\n    </tr>\n  </tbody>\n</table>\n</div>"
     },
     "metadata": {},
     "execution_count": 104
    }
   ],
   "source": [
    "df.head()"
   ]
  },
  {
   "cell_type": "code",
   "execution_count": 105,
   "metadata": {},
   "outputs": [],
   "source": [
    "import pandas as pd\n",
    "import quandl\n",
    "import seaborn as sns\n",
    "\n",
    "\n",
    "QUANDL_KEY = '{key}' # replace {key} with your own API key  \n",
    "quandl.ApiConfig.api_key = QUANDL_KEY"
   ]
  },
  {
   "cell_type": "code",
   "execution_count": 106,
   "metadata": {},
   "outputs": [],
   "source": [
    "df_all_dates = pd.DataFrame(index=pd.date_range(start='2014-12-31', \n",
    "                                                end='2019-12-31'))\n",
    "\n",
    "df = df_all_dates.join(df[['adj_close']], how='left') \\\n",
    "                 .fillna(method='ffill') \\\n",
    "                 .asfreq('A')"
   ]
  },
  {
   "cell_type": "code",
   "execution_count": 107,
   "metadata": {},
   "outputs": [
    {
     "output_type": "execute_result",
     "data": {
      "text/plain": [
       "Empty DataFrame\n",
       "Columns: []\n",
       "Index: [2014-12-31 00:00:00, 2015-01-01 00:00:00, 2015-01-02 00:00:00, 2015-01-03 00:00:00, 2015-01-04 00:00:00]"
      ],
      "text/html": "<div>\n<style scoped>\n    .dataframe tbody tr th:only-of-type {\n        vertical-align: middle;\n    }\n\n    .dataframe tbody tr th {\n        vertical-align: top;\n    }\n\n    .dataframe thead th {\n        text-align: right;\n    }\n</style>\n<table border=\"1\" class=\"dataframe\">\n  <thead>\n    <tr style=\"text-align: right;\">\n      <th></th>\n    </tr>\n  </thead>\n  <tbody>\n    <tr>\n      <th>2014-12-31</th>\n    </tr>\n    <tr>\n      <th>2015-01-01</th>\n    </tr>\n    <tr>\n      <th>2015-01-02</th>\n    </tr>\n    <tr>\n      <th>2015-01-03</th>\n    </tr>\n    <tr>\n      <th>2015-01-04</th>\n    </tr>\n  </tbody>\n</table>\n</div>"
     },
     "metadata": {},
     "execution_count": 107
    }
   ],
   "source": [
    "df_all_dates.head()"
   ]
  },
  {
   "cell_type": "code",
   "execution_count": 108,
   "metadata": {},
   "outputs": [
    {
     "output_type": "execute_result",
     "data": {
      "text/plain": [
       "              adj_close\n",
       "2014-12-31          NaN\n",
       "2015-12-31    86.082100\n",
       "2016-12-31   551.708008\n",
       "2017-12-31  2394.647461\n",
       "2018-12-31  1315.335327"
      ],
      "text/html": "<div>\n<style scoped>\n    .dataframe tbody tr th:only-of-type {\n        vertical-align: middle;\n    }\n\n    .dataframe tbody tr th {\n        vertical-align: top;\n    }\n\n    .dataframe thead th {\n        text-align: right;\n    }\n</style>\n<table border=\"1\" class=\"dataframe\">\n  <thead>\n    <tr style=\"text-align: right;\">\n      <th></th>\n      <th>adj_close</th>\n    </tr>\n  </thead>\n  <tbody>\n    <tr>\n      <th>2014-12-31</th>\n      <td>NaN</td>\n    </tr>\n    <tr>\n      <th>2015-12-31</th>\n      <td>86.082100</td>\n    </tr>\n    <tr>\n      <th>2016-12-31</th>\n      <td>551.708008</td>\n    </tr>\n    <tr>\n      <th>2017-12-31</th>\n      <td>2394.647461</td>\n    </tr>\n    <tr>\n      <th>2018-12-31</th>\n      <td>1315.335327</td>\n    </tr>\n  </tbody>\n</table>\n</div>"
     },
     "metadata": {},
     "execution_count": 108
    }
   ],
   "source": [
    "df.head()"
   ]
  },
  {
   "cell_type": "code",
   "execution_count": 109,
   "metadata": {},
   "outputs": [],
   "source": [
    "df_cpi = quandl.get(\"ODA/IDN_PCPI\", \n",
    "                    authtoken=\"insert your own key here", \n",
    "                    start_date='2014-12-31', \n",
    "                    end_date='2019-12-31')\n",
    "df_cpi.rename(columns={'Value':'cpi'}, inplace=True)"
   ]
  },
  {
   "cell_type": "code",
   "execution_count": 110,
   "metadata": {},
   "outputs": [
    {
     "output_type": "execute_result",
     "data": {
      "text/plain": [
       "                cpi\n",
       "Date               \n",
       "2014-12-31  113.218\n",
       "2015-12-31  120.422\n",
       "2016-12-31  124.668\n",
       "2017-12-31  129.416\n",
       "2018-12-31  133.555"
      ],
      "text/html": "<div>\n<style scoped>\n    .dataframe tbody tr th:only-of-type {\n        vertical-align: middle;\n    }\n\n    .dataframe tbody tr th {\n        vertical-align: top;\n    }\n\n    .dataframe thead th {\n        text-align: right;\n    }\n</style>\n<table border=\"1\" class=\"dataframe\">\n  <thead>\n    <tr style=\"text-align: right;\">\n      <th></th>\n      <th>cpi</th>\n    </tr>\n    <tr>\n      <th>Date</th>\n      <th></th>\n    </tr>\n  </thead>\n  <tbody>\n    <tr>\n      <th>2014-12-31</th>\n      <td>113.218</td>\n    </tr>\n    <tr>\n      <th>2015-12-31</th>\n      <td>120.422</td>\n    </tr>\n    <tr>\n      <th>2016-12-31</th>\n      <td>124.668</td>\n    </tr>\n    <tr>\n      <th>2017-12-31</th>\n      <td>129.416</td>\n    </tr>\n    <tr>\n      <th>2018-12-31</th>\n      <td>133.555</td>\n    </tr>\n  </tbody>\n</table>\n</div>"
     },
     "metadata": {},
     "execution_count": 110
    }
   ],
   "source": [
    "df_cpi.head()"
   ]
  },
  {
   "cell_type": "code",
   "execution_count": 111,
   "metadata": {},
   "outputs": [],
   "source": [
    "df_merged = df.join(df_cpi, how='right')"
   ]
  },
  {
   "cell_type": "code",
   "execution_count": 112,
   "metadata": {},
   "outputs": [
    {
     "output_type": "execute_result",
     "data": {
      "text/plain": [
       "              adj_close      cpi\n",
       "Date                            \n",
       "2014-12-31          NaN  113.218\n",
       "2015-12-31    86.082100  120.422\n",
       "2016-12-31   551.708008  124.668\n",
       "2017-12-31  2394.647461  129.416\n",
       "2018-12-31  1315.335327  133.555"
      ],
      "text/html": "<div>\n<style scoped>\n    .dataframe tbody tr th:only-of-type {\n        vertical-align: middle;\n    }\n\n    .dataframe tbody tr th {\n        vertical-align: top;\n    }\n\n    .dataframe thead th {\n        text-align: right;\n    }\n</style>\n<table border=\"1\" class=\"dataframe\">\n  <thead>\n    <tr style=\"text-align: right;\">\n      <th></th>\n      <th>adj_close</th>\n      <th>cpi</th>\n    </tr>\n    <tr>\n      <th>Date</th>\n      <th></th>\n      <th></th>\n    </tr>\n  </thead>\n  <tbody>\n    <tr>\n      <th>2014-12-31</th>\n      <td>NaN</td>\n      <td>113.218</td>\n    </tr>\n    <tr>\n      <th>2015-12-31</th>\n      <td>86.082100</td>\n      <td>120.422</td>\n    </tr>\n    <tr>\n      <th>2016-12-31</th>\n      <td>551.708008</td>\n      <td>124.668</td>\n    </tr>\n    <tr>\n      <th>2017-12-31</th>\n      <td>2394.647461</td>\n      <td>129.416</td>\n    </tr>\n    <tr>\n      <th>2018-12-31</th>\n      <td>1315.335327</td>\n      <td>133.555</td>\n    </tr>\n  </tbody>\n</table>\n</div>"
     },
     "metadata": {},
     "execution_count": 112
    }
   ],
   "source": [
    "df_merged.head()"
   ]
  },
  {
   "cell_type": "code",
   "execution_count": 113,
   "metadata": {},
   "outputs": [],
   "source": [
    "df_merged['simple_rtn'] = df_merged.adj_close.pct_change()\n",
    "df_merged['inflation_rate'] = df_merged.cpi.pct_change()"
   ]
  },
  {
   "cell_type": "code",
   "execution_count": 114,
   "metadata": {},
   "outputs": [
    {
     "output_type": "execute_result",
     "data": {
      "text/plain": [
       "              adj_close      cpi  simple_rtn  inflation_rate\n",
       "Date                                                        \n",
       "2014-12-31          NaN  113.218         NaN             NaN\n",
       "2015-12-31    86.082100  120.422         NaN        0.063629\n",
       "2016-12-31   551.708008  124.668    5.409091        0.035259\n",
       "2017-12-31  2394.647461  129.416    3.340425        0.038085\n",
       "2018-12-31  1315.335327  133.555   -0.450719        0.031982\n",
       "2019-12-31  1060.267212  138.022   -0.193919        0.033447"
      ],
      "text/html": "<div>\n<style scoped>\n    .dataframe tbody tr th:only-of-type {\n        vertical-align: middle;\n    }\n\n    .dataframe tbody tr th {\n        vertical-align: top;\n    }\n\n    .dataframe thead th {\n        text-align: right;\n    }\n</style>\n<table border=\"1\" class=\"dataframe\">\n  <thead>\n    <tr style=\"text-align: right;\">\n      <th></th>\n      <th>adj_close</th>\n      <th>cpi</th>\n      <th>simple_rtn</th>\n      <th>inflation_rate</th>\n    </tr>\n    <tr>\n      <th>Date</th>\n      <th></th>\n      <th></th>\n      <th></th>\n      <th></th>\n    </tr>\n  </thead>\n  <tbody>\n    <tr>\n      <th>2014-12-31</th>\n      <td>NaN</td>\n      <td>113.218</td>\n      <td>NaN</td>\n      <td>NaN</td>\n    </tr>\n    <tr>\n      <th>2015-12-31</th>\n      <td>86.082100</td>\n      <td>120.422</td>\n      <td>NaN</td>\n      <td>0.063629</td>\n    </tr>\n    <tr>\n      <th>2016-12-31</th>\n      <td>551.708008</td>\n      <td>124.668</td>\n      <td>5.409091</td>\n      <td>0.035259</td>\n    </tr>\n    <tr>\n      <th>2017-12-31</th>\n      <td>2394.647461</td>\n      <td>129.416</td>\n      <td>3.340425</td>\n      <td>0.038085</td>\n    </tr>\n    <tr>\n      <th>2018-12-31</th>\n      <td>1315.335327</td>\n      <td>133.555</td>\n      <td>-0.450719</td>\n      <td>0.031982</td>\n    </tr>\n    <tr>\n      <th>2019-12-31</th>\n      <td>1060.267212</td>\n      <td>138.022</td>\n      <td>-0.193919</td>\n      <td>0.033447</td>\n    </tr>\n  </tbody>\n</table>\n</div>"
     },
     "metadata": {},
     "execution_count": 114
    }
   ],
   "source": [
    "df_merged.head(10)"
   ]
  },
  {
   "cell_type": "code",
   "execution_count": 115,
   "metadata": {},
   "outputs": [
    {
     "output_type": "execute_result",
     "data": {
      "text/plain": [
       "              adj_close      cpi  simple_rtn  inflation_rate  real_rtn\n",
       "Date                                                                  \n",
       "2014-12-31          NaN  113.218         NaN             NaN       NaN\n",
       "2015-12-31    86.082100  120.422         NaN        0.063629       NaN\n",
       "2016-12-31   551.708008  124.668    5.409091        0.035259  5.190807\n",
       "2017-12-31  2394.647461  129.416    3.340425        0.038085  3.181184\n",
       "2018-12-31  1315.335327  133.555   -0.450719        0.031982 -0.467741\n",
       "2019-12-31  1060.267212  138.022   -0.193919        0.033447 -0.220007"
      ],
      "text/html": "<div>\n<style scoped>\n    .dataframe tbody tr th:only-of-type {\n        vertical-align: middle;\n    }\n\n    .dataframe tbody tr th {\n        vertical-align: top;\n    }\n\n    .dataframe thead th {\n        text-align: right;\n    }\n</style>\n<table border=\"1\" class=\"dataframe\">\n  <thead>\n    <tr style=\"text-align: right;\">\n      <th></th>\n      <th>adj_close</th>\n      <th>cpi</th>\n      <th>simple_rtn</th>\n      <th>inflation_rate</th>\n      <th>real_rtn</th>\n    </tr>\n    <tr>\n      <th>Date</th>\n      <th></th>\n      <th></th>\n      <th></th>\n      <th></th>\n      <th></th>\n    </tr>\n  </thead>\n  <tbody>\n    <tr>\n      <th>2014-12-31</th>\n      <td>NaN</td>\n      <td>113.218</td>\n      <td>NaN</td>\n      <td>NaN</td>\n      <td>NaN</td>\n    </tr>\n    <tr>\n      <th>2015-12-31</th>\n      <td>86.082100</td>\n      <td>120.422</td>\n      <td>NaN</td>\n      <td>0.063629</td>\n      <td>NaN</td>\n    </tr>\n    <tr>\n      <th>2016-12-31</th>\n      <td>551.708008</td>\n      <td>124.668</td>\n      <td>5.409091</td>\n      <td>0.035259</td>\n      <td>5.190807</td>\n    </tr>\n    <tr>\n      <th>2017-12-31</th>\n      <td>2394.647461</td>\n      <td>129.416</td>\n      <td>3.340425</td>\n      <td>0.038085</td>\n      <td>3.181184</td>\n    </tr>\n    <tr>\n      <th>2018-12-31</th>\n      <td>1315.335327</td>\n      <td>133.555</td>\n      <td>-0.450719</td>\n      <td>0.031982</td>\n      <td>-0.467741</td>\n    </tr>\n    <tr>\n      <th>2019-12-31</th>\n      <td>1060.267212</td>\n      <td>138.022</td>\n      <td>-0.193919</td>\n      <td>0.033447</td>\n      <td>-0.220007</td>\n    </tr>\n  </tbody>\n</table>\n</div>"
     },
     "metadata": {},
     "execution_count": 115
    }
   ],
   "source": [
    "df_merged['real_rtn'] = (df_merged.simple_rtn + 1 ) / (df_merged.inflation_rate + 1) - 1\n",
    "df_merged.head(10)"
   ]
  },
  {
   "cell_type": "code",
   "execution_count": 116,
   "metadata": {},
   "outputs": [
    {
     "output_type": "execute_result",
     "data": {
      "text/plain": [
       "Date\n",
       "2015-12-31      86.082100\n",
       "2016-12-31     551.708008\n",
       "2017-12-31    2394.647461\n",
       "2018-12-31    1315.335327\n",
       "2019-12-31    1060.267212\n",
       "Name: adj_close, dtype: float64"
      ]
     },
     "metadata": {},
     "execution_count": 116
    }
   ],
   "source": [
    "df = df_merged['adj_close'].dropna()\n",
    "df.head(10)"
   ]
  },
  {
   "cell_type": "code",
   "execution_count": 117,
   "metadata": {},
   "outputs": [
    {
     "output_type": "stream",
     "name": "stdout",
     "text": [
      "86.08209991455078\n1060.2672119140625\n5\n0.20240298004550472\n0.44994112625978255\n"
     ]
    }
   ],
   "source": [
    "x = df[0]\n",
    "print(x)\n",
    "y = df[-1]\n",
    "print(y)\n",
    "\n",
    "year = len(df)\n",
    "print(year)\n",
    "\n",
    "inflation_rate = df_merged['inflation_rate'].sum()\n",
    "print(inflation_rate)    \n",
    "\n",
    "CAGR =(y/x)**(1/year)- 1 - inflation_rate\n",
    "\n",
    "print(CAGR)"
   ]
  },
  {
   "cell_type": "code",
   "execution_count": null,
   "metadata": {},
   "outputs": [],
   "source": []
  },
  {
   "cell_type": "code",
   "execution_count": null,
   "metadata": {},
   "outputs": [],
   "source": []
  },
  {
   "cell_type": "code",
   "execution_count": null,
   "metadata": {},
   "outputs": [],
   "source": []
  },
  {
   "cell_type": "code",
   "execution_count": null,
   "metadata": {},
   "outputs": [],
   "source": []
  },
  {
   "cell_type": "code",
   "execution_count": null,
   "metadata": {},
   "outputs": [],
   "source": []
  }
 ]
}
