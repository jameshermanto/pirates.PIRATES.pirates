{
 "metadata": {
  "language_info": {
   "codemirror_mode": {
    "name": "ipython",
    "version": 3
   },
   "file_extension": ".py",
   "mimetype": "text/x-python",
   "name": "python",
   "nbconvert_exporter": "python",
   "pygments_lexer": "ipython3",
   "version": "3.8.6-final"
  },
  "orig_nbformat": 2,
  "kernelspec": {
   "name": "python38664bit0d0f8787a5104a6d9e4fdb640e9bc9a2",
   "display_name": "Python 3.8.6 64-bit"
  }
 },
 "nbformat": 4,
 "nbformat_minor": 2,
 "cells": [
  {
   "cell_type": "code",
   "execution_count": 52,
   "metadata": {},
   "outputs": [],
   "source": [
    "import pandas as pd \n",
    "import numpy as np\n",
    "import yfinance as yf"
   ]
  },
  {
   "cell_type": "code",
   "execution_count": 53,
   "metadata": {},
   "outputs": [],
   "source": [
    "df = yf.download('BUMI.jk',\n",
    "                 start='2010-12-31', \n",
    "                 end='2019-12-31',\n",
    "                 actions='inline',\n",
    "                 progress=False)\n",
    "\n",
    "df = df.loc[:, ['Close']]\n",
    "df.rename(columns={'Close':'close'}, inplace=True)"
   ]
  },
  {
   "cell_type": "code",
   "execution_count": 54,
   "metadata": {},
   "outputs": [],
   "source": [
    "df['simple_rtn'] = df.close.pct_change()\n",
    "df['log_rtn'] = np.log(df.close/df.close.shift(1))"
   ]
  },
  {
   "cell_type": "code",
   "execution_count": 55,
   "metadata": {},
   "outputs": [
    {
     "output_type": "execute_result",
     "data": {
      "text/plain": [
       "             close  simple_rtn   log_rtn\n",
       "Date                                    \n",
       "2011-01-03  3125.0         NaN       NaN\n",
       "2011-01-04  3250.0    0.040000  0.039221\n",
       "2011-01-05  3275.0    0.007692  0.007663\n",
       "2011-01-06  3275.0    0.000000  0.000000\n",
       "2011-01-07  3125.0   -0.045802 -0.046884"
      ],
      "text/html": "<div>\n<style scoped>\n    .dataframe tbody tr th:only-of-type {\n        vertical-align: middle;\n    }\n\n    .dataframe tbody tr th {\n        vertical-align: top;\n    }\n\n    .dataframe thead th {\n        text-align: right;\n    }\n</style>\n<table border=\"1\" class=\"dataframe\">\n  <thead>\n    <tr style=\"text-align: right;\">\n      <th></th>\n      <th>close</th>\n      <th>simple_rtn</th>\n      <th>log_rtn</th>\n    </tr>\n    <tr>\n      <th>Date</th>\n      <th></th>\n      <th></th>\n      <th></th>\n    </tr>\n  </thead>\n  <tbody>\n    <tr>\n      <th>2011-01-03</th>\n      <td>3125.0</td>\n      <td>NaN</td>\n      <td>NaN</td>\n    </tr>\n    <tr>\n      <th>2011-01-04</th>\n      <td>3250.0</td>\n      <td>0.040000</td>\n      <td>0.039221</td>\n    </tr>\n    <tr>\n      <th>2011-01-05</th>\n      <td>3275.0</td>\n      <td>0.007692</td>\n      <td>0.007663</td>\n    </tr>\n    <tr>\n      <th>2011-01-06</th>\n      <td>3275.0</td>\n      <td>0.000000</td>\n      <td>0.000000</td>\n    </tr>\n    <tr>\n      <th>2011-01-07</th>\n      <td>3125.0</td>\n      <td>-0.045802</td>\n      <td>-0.046884</td>\n    </tr>\n  </tbody>\n</table>\n</div>"
     },
     "metadata": {},
     "execution_count": 55
    }
   ],
   "source": [
    "df.head()"
   ]
  },
  {
   "cell_type": "code",
   "execution_count": 56,
   "metadata": {},
   "outputs": [],
   "source": [
    "import pandas as pd \n",
    "import quandl\n",
    "import seaborn as sns\n",
    "\n",
    "\n",
    "QUANDL_KEY = 'et7jqG6esE8zbud7VEaM' # replace {key} with your own API key  \n",
    "quandl.ApiConfig.api_key = QUANDL_KEY"
   ]
  },
  {
   "cell_type": "code",
   "execution_count": 57,
   "metadata": {},
   "outputs": [],
   "source": [
    "df_all_dates = pd.DataFrame(index=pd.date_range(start='2010-12-31', \n",
    "                                                end='2019-12-31'))\n",
    "\n",
    "df = df_all_dates.join(df[['close']], how='left') \\\n",
    "                 .fillna(method='ffill') \\\n",
    "                 .asfreq('A')"
   ]
  },
  {
   "cell_type": "code",
   "execution_count": 58,
   "metadata": {},
   "outputs": [
    {
     "output_type": "execute_result",
     "data": {
      "text/plain": [
       "Empty DataFrame\n",
       "Columns: []\n",
       "Index: [2010-12-31 00:00:00, 2011-01-01 00:00:00, 2011-01-02 00:00:00, 2011-01-03 00:00:00, 2011-01-04 00:00:00]"
      ],
      "text/html": "<div>\n<style scoped>\n    .dataframe tbody tr th:only-of-type {\n        vertical-align: middle;\n    }\n\n    .dataframe tbody tr th {\n        vertical-align: top;\n    }\n\n    .dataframe thead th {\n        text-align: right;\n    }\n</style>\n<table border=\"1\" class=\"dataframe\">\n  <thead>\n    <tr style=\"text-align: right;\">\n      <th></th>\n    </tr>\n  </thead>\n  <tbody>\n    <tr>\n      <th>2010-12-31</th>\n    </tr>\n    <tr>\n      <th>2011-01-01</th>\n    </tr>\n    <tr>\n      <th>2011-01-02</th>\n    </tr>\n    <tr>\n      <th>2011-01-03</th>\n    </tr>\n    <tr>\n      <th>2011-01-04</th>\n    </tr>\n  </tbody>\n</table>\n</div>"
     },
     "metadata": {},
     "execution_count": 58
    }
   ],
   "source": [
    "df_all_dates.head()"
   ]
  },
  {
   "cell_type": "code",
   "execution_count": 59,
   "metadata": {},
   "outputs": [
    {
     "output_type": "execute_result",
     "data": {
      "text/plain": [
       "             close\n",
       "2010-12-31     NaN\n",
       "2011-12-31  2175.0\n",
       "2012-12-31   590.0\n",
       "2013-12-31   300.0\n",
       "2014-12-31    80.0"
      ],
      "text/html": "<div>\n<style scoped>\n    .dataframe tbody tr th:only-of-type {\n        vertical-align: middle;\n    }\n\n    .dataframe tbody tr th {\n        vertical-align: top;\n    }\n\n    .dataframe thead th {\n        text-align: right;\n    }\n</style>\n<table border=\"1\" class=\"dataframe\">\n  <thead>\n    <tr style=\"text-align: right;\">\n      <th></th>\n      <th>close</th>\n    </tr>\n  </thead>\n  <tbody>\n    <tr>\n      <th>2010-12-31</th>\n      <td>NaN</td>\n    </tr>\n    <tr>\n      <th>2011-12-31</th>\n      <td>2175.0</td>\n    </tr>\n    <tr>\n      <th>2012-12-31</th>\n      <td>590.0</td>\n    </tr>\n    <tr>\n      <th>2013-12-31</th>\n      <td>300.0</td>\n    </tr>\n    <tr>\n      <th>2014-12-31</th>\n      <td>80.0</td>\n    </tr>\n  </tbody>\n</table>\n</div>"
     },
     "metadata": {},
     "execution_count": 59
    }
   ],
   "source": [
    "df.head()"
   ]
  },
  {
   "cell_type": "code",
   "execution_count": 60,
   "metadata": {},
   "outputs": [],
   "source": [
    "df_cpi = quandl.get(\"ODA/IDN_PCPI\", \n",
    "                    authtoken=\"et7jqG6esE8zbud7VEaM\", \n",
    "                    start_date='2010-12-31', \n",
    "                    end_date='2019-12-31')\n",
    "df_cpi.rename(columns={'Value':'cpi'}, inplace=True)"
   ]
  },
  {
   "cell_type": "code",
   "execution_count": 61,
   "metadata": {},
   "outputs": [
    {
     "output_type": "execute_result",
     "data": {
      "text/plain": [
       "                cpi\n",
       "Date               \n",
       "2010-12-31   91.293\n",
       "2011-12-31   96.171\n",
       "2012-12-31   99.999\n",
       "2013-12-31  106.413\n",
       "2014-12-31  113.218"
      ],
      "text/html": "<div>\n<style scoped>\n    .dataframe tbody tr th:only-of-type {\n        vertical-align: middle;\n    }\n\n    .dataframe tbody tr th {\n        vertical-align: top;\n    }\n\n    .dataframe thead th {\n        text-align: right;\n    }\n</style>\n<table border=\"1\" class=\"dataframe\">\n  <thead>\n    <tr style=\"text-align: right;\">\n      <th></th>\n      <th>cpi</th>\n    </tr>\n    <tr>\n      <th>Date</th>\n      <th></th>\n    </tr>\n  </thead>\n  <tbody>\n    <tr>\n      <th>2010-12-31</th>\n      <td>91.293</td>\n    </tr>\n    <tr>\n      <th>2011-12-31</th>\n      <td>96.171</td>\n    </tr>\n    <tr>\n      <th>2012-12-31</th>\n      <td>99.999</td>\n    </tr>\n    <tr>\n      <th>2013-12-31</th>\n      <td>106.413</td>\n    </tr>\n    <tr>\n      <th>2014-12-31</th>\n      <td>113.218</td>\n    </tr>\n  </tbody>\n</table>\n</div>"
     },
     "metadata": {},
     "execution_count": 61
    }
   ],
   "source": [
    "df_cpi.head()"
   ]
  },
  {
   "cell_type": "code",
   "execution_count": 62,
   "metadata": {},
   "outputs": [],
   "source": [
    "df_merged = df.join(df_cpi, how='right')"
   ]
  },
  {
   "cell_type": "code",
   "execution_count": 63,
   "metadata": {},
   "outputs": [
    {
     "output_type": "execute_result",
     "data": {
      "text/plain": [
       "             close      cpi\n",
       "Date                       \n",
       "2010-12-31     NaN   91.293\n",
       "2011-12-31  2175.0   96.171\n",
       "2012-12-31   590.0   99.999\n",
       "2013-12-31   300.0  106.413\n",
       "2014-12-31    80.0  113.218"
      ],
      "text/html": "<div>\n<style scoped>\n    .dataframe tbody tr th:only-of-type {\n        vertical-align: middle;\n    }\n\n    .dataframe tbody tr th {\n        vertical-align: top;\n    }\n\n    .dataframe thead th {\n        text-align: right;\n    }\n</style>\n<table border=\"1\" class=\"dataframe\">\n  <thead>\n    <tr style=\"text-align: right;\">\n      <th></th>\n      <th>close</th>\n      <th>cpi</th>\n    </tr>\n    <tr>\n      <th>Date</th>\n      <th></th>\n      <th></th>\n    </tr>\n  </thead>\n  <tbody>\n    <tr>\n      <th>2010-12-31</th>\n      <td>NaN</td>\n      <td>91.293</td>\n    </tr>\n    <tr>\n      <th>2011-12-31</th>\n      <td>2175.0</td>\n      <td>96.171</td>\n    </tr>\n    <tr>\n      <th>2012-12-31</th>\n      <td>590.0</td>\n      <td>99.999</td>\n    </tr>\n    <tr>\n      <th>2013-12-31</th>\n      <td>300.0</td>\n      <td>106.413</td>\n    </tr>\n    <tr>\n      <th>2014-12-31</th>\n      <td>80.0</td>\n      <td>113.218</td>\n    </tr>\n  </tbody>\n</table>\n</div>"
     },
     "metadata": {},
     "execution_count": 63
    }
   ],
   "source": [
    "df_merged.head()"
   ]
  },
  {
   "cell_type": "code",
   "execution_count": 64,
   "metadata": {},
   "outputs": [],
   "source": [
    "df_merged['simple_rtn'] = df_merged.close.pct_change()\n",
    "df_merged['inflation_rate'] = df_merged.cpi.pct_change()"
   ]
  },
  {
   "cell_type": "code",
   "execution_count": 65,
   "metadata": {},
   "outputs": [
    {
     "output_type": "execute_result",
     "data": {
      "text/plain": [
       "             close      cpi  simple_rtn  inflation_rate\n",
       "Date                                                   \n",
       "2010-12-31     NaN   91.293         NaN             NaN\n",
       "2011-12-31  2175.0   96.171         NaN        0.053432\n",
       "2012-12-31   590.0   99.999   -0.728736        0.039804\n",
       "2013-12-31   300.0  106.413   -0.491525        0.064141\n",
       "2014-12-31    80.0  113.218   -0.733333        0.063949\n",
       "2015-12-31    50.0  120.422   -0.375000        0.063629\n",
       "2016-12-31   278.0  124.668    4.560000        0.035259\n",
       "2017-12-31   270.0  129.416   -0.028777        0.038085\n",
       "2018-12-31   103.0  133.555   -0.618519        0.031982\n",
       "2019-12-31    66.0  138.022   -0.359223        0.033447"
      ],
      "text/html": "<div>\n<style scoped>\n    .dataframe tbody tr th:only-of-type {\n        vertical-align: middle;\n    }\n\n    .dataframe tbody tr th {\n        vertical-align: top;\n    }\n\n    .dataframe thead th {\n        text-align: right;\n    }\n</style>\n<table border=\"1\" class=\"dataframe\">\n  <thead>\n    <tr style=\"text-align: right;\">\n      <th></th>\n      <th>close</th>\n      <th>cpi</th>\n      <th>simple_rtn</th>\n      <th>inflation_rate</th>\n    </tr>\n    <tr>\n      <th>Date</th>\n      <th></th>\n      <th></th>\n      <th></th>\n      <th></th>\n    </tr>\n  </thead>\n  <tbody>\n    <tr>\n      <th>2010-12-31</th>\n      <td>NaN</td>\n      <td>91.293</td>\n      <td>NaN</td>\n      <td>NaN</td>\n    </tr>\n    <tr>\n      <th>2011-12-31</th>\n      <td>2175.0</td>\n      <td>96.171</td>\n      <td>NaN</td>\n      <td>0.053432</td>\n    </tr>\n    <tr>\n      <th>2012-12-31</th>\n      <td>590.0</td>\n      <td>99.999</td>\n      <td>-0.728736</td>\n      <td>0.039804</td>\n    </tr>\n    <tr>\n      <th>2013-12-31</th>\n      <td>300.0</td>\n      <td>106.413</td>\n      <td>-0.491525</td>\n      <td>0.064141</td>\n    </tr>\n    <tr>\n      <th>2014-12-31</th>\n      <td>80.0</td>\n      <td>113.218</td>\n      <td>-0.733333</td>\n      <td>0.063949</td>\n    </tr>\n    <tr>\n      <th>2015-12-31</th>\n      <td>50.0</td>\n      <td>120.422</td>\n      <td>-0.375000</td>\n      <td>0.063629</td>\n    </tr>\n    <tr>\n      <th>2016-12-31</th>\n      <td>278.0</td>\n      <td>124.668</td>\n      <td>4.560000</td>\n      <td>0.035259</td>\n    </tr>\n    <tr>\n      <th>2017-12-31</th>\n      <td>270.0</td>\n      <td>129.416</td>\n      <td>-0.028777</td>\n      <td>0.038085</td>\n    </tr>\n    <tr>\n      <th>2018-12-31</th>\n      <td>103.0</td>\n      <td>133.555</td>\n      <td>-0.618519</td>\n      <td>0.031982</td>\n    </tr>\n    <tr>\n      <th>2019-12-31</th>\n      <td>66.0</td>\n      <td>138.022</td>\n      <td>-0.359223</td>\n      <td>0.033447</td>\n    </tr>\n  </tbody>\n</table>\n</div>"
     },
     "metadata": {},
     "execution_count": 65
    }
   ],
   "source": [
    "df_merged.head(10)"
   ]
  },
  {
   "cell_type": "code",
   "execution_count": 66,
   "metadata": {},
   "outputs": [
    {
     "output_type": "execute_result",
     "data": {
      "text/plain": [
       "             close      cpi  simple_rtn  inflation_rate  real_rtn\n",
       "Date                                                             \n",
       "2010-12-31     NaN   91.293         NaN             NaN       NaN\n",
       "2011-12-31  2175.0   96.171         NaN        0.053432       NaN\n",
       "2012-12-31   590.0   99.999   -0.728736        0.039804 -0.739120\n",
       "2013-12-31   300.0  106.413   -0.491525        0.064141 -0.522174\n",
       "2014-12-31    80.0  113.218   -0.733333        0.063949 -0.749361\n",
       "2015-12-31    50.0  120.422   -0.375000        0.063629 -0.412389\n",
       "2016-12-31   278.0  124.668    4.560000        0.035259  4.370635\n",
       "2017-12-31   270.0  129.416   -0.028777        0.038085 -0.064409\n",
       "2018-12-31   103.0  133.555   -0.618519        0.031982 -0.630341\n",
       "2019-12-31    66.0  138.022   -0.359223        0.033447 -0.379962"
      ],
      "text/html": "<div>\n<style scoped>\n    .dataframe tbody tr th:only-of-type {\n        vertical-align: middle;\n    }\n\n    .dataframe tbody tr th {\n        vertical-align: top;\n    }\n\n    .dataframe thead th {\n        text-align: right;\n    }\n</style>\n<table border=\"1\" class=\"dataframe\">\n  <thead>\n    <tr style=\"text-align: right;\">\n      <th></th>\n      <th>close</th>\n      <th>cpi</th>\n      <th>simple_rtn</th>\n      <th>inflation_rate</th>\n      <th>real_rtn</th>\n    </tr>\n    <tr>\n      <th>Date</th>\n      <th></th>\n      <th></th>\n      <th></th>\n      <th></th>\n      <th></th>\n    </tr>\n  </thead>\n  <tbody>\n    <tr>\n      <th>2010-12-31</th>\n      <td>NaN</td>\n      <td>91.293</td>\n      <td>NaN</td>\n      <td>NaN</td>\n      <td>NaN</td>\n    </tr>\n    <tr>\n      <th>2011-12-31</th>\n      <td>2175.0</td>\n      <td>96.171</td>\n      <td>NaN</td>\n      <td>0.053432</td>\n      <td>NaN</td>\n    </tr>\n    <tr>\n      <th>2012-12-31</th>\n      <td>590.0</td>\n      <td>99.999</td>\n      <td>-0.728736</td>\n      <td>0.039804</td>\n      <td>-0.739120</td>\n    </tr>\n    <tr>\n      <th>2013-12-31</th>\n      <td>300.0</td>\n      <td>106.413</td>\n      <td>-0.491525</td>\n      <td>0.064141</td>\n      <td>-0.522174</td>\n    </tr>\n    <tr>\n      <th>2014-12-31</th>\n      <td>80.0</td>\n      <td>113.218</td>\n      <td>-0.733333</td>\n      <td>0.063949</td>\n      <td>-0.749361</td>\n    </tr>\n    <tr>\n      <th>2015-12-31</th>\n      <td>50.0</td>\n      <td>120.422</td>\n      <td>-0.375000</td>\n      <td>0.063629</td>\n      <td>-0.412389</td>\n    </tr>\n    <tr>\n      <th>2016-12-31</th>\n      <td>278.0</td>\n      <td>124.668</td>\n      <td>4.560000</td>\n      <td>0.035259</td>\n      <td>4.370635</td>\n    </tr>\n    <tr>\n      <th>2017-12-31</th>\n      <td>270.0</td>\n      <td>129.416</td>\n      <td>-0.028777</td>\n      <td>0.038085</td>\n      <td>-0.064409</td>\n    </tr>\n    <tr>\n      <th>2018-12-31</th>\n      <td>103.0</td>\n      <td>133.555</td>\n      <td>-0.618519</td>\n      <td>0.031982</td>\n      <td>-0.630341</td>\n    </tr>\n    <tr>\n      <th>2019-12-31</th>\n      <td>66.0</td>\n      <td>138.022</td>\n      <td>-0.359223</td>\n      <td>0.033447</td>\n      <td>-0.379962</td>\n    </tr>\n  </tbody>\n</table>\n</div>"
     },
     "metadata": {},
     "execution_count": 66
    }
   ],
   "source": [
    "df_merged['real_rtn'] = (df_merged.simple_rtn + 1 ) / (df_merged.inflation_rate + 1) - 1\n",
    "df_merged.head(10)"
   ]
  },
  {
   "cell_type": "code",
   "execution_count": 67,
   "metadata": {},
   "outputs": [
    {
     "output_type": "execute_result",
     "data": {
      "text/plain": [
       "Date\n",
       "2011-12-31    2175.0\n",
       "2012-12-31     590.0\n",
       "2013-12-31     300.0\n",
       "2014-12-31      80.0\n",
       "2015-12-31      50.0\n",
       "2016-12-31     278.0\n",
       "2017-12-31     270.0\n",
       "2018-12-31     103.0\n",
       "2019-12-31      66.0\n",
       "Name: close, dtype: float64"
      ]
     },
     "metadata": {},
     "execution_count": 67
    }
   ],
   "source": [
    "df = df_merged['close'].dropna()\n",
    "df.head(10)"
   ]
  },
  {
   "cell_type": "code",
   "execution_count": 68,
   "metadata": {},
   "outputs": [
    {
     "output_type": "stream",
     "name": "stdout",
     "text": [
      "2175.0\n66.0\n9\n0.4237290291701006\n-0.9696551724137931\n"
     ]
    }
   ],
   "source": [
    "x = df[0]\n",
    "print(x)\n",
    "y = df[-1]\n",
    "print(y)\n",
    "year = len(df)\n",
    "print(year)\n",
    "inflation = df_merged['inflation_rate'].sum()\n",
    "print(inflation)\n",
    "\n",
    "Return = (y-x)/x \n",
    "\n",
    "if Return > 0:\n",
    "    Return - inflation\n",
    "\n",
    "else:\n",
    "    Return = Return \n",
    "\n",
    "print(Return)"
   ]
  },
  {
   "cell_type": "code",
   "execution_count": null,
   "metadata": {},
   "outputs": [],
   "source": []
  },
  {
   "cell_type": "code",
   "execution_count": null,
   "metadata": {},
   "outputs": [],
   "source": []
  },
  {
   "cell_type": "code",
   "execution_count": null,
   "metadata": {},
   "outputs": [],
   "source": []
  }
 ]
}